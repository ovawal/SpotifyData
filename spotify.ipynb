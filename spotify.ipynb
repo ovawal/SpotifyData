{
 "cells": [
  {
   "cell_type": "markdown",
   "id": "110d5906-b9eb-4ad0-842c-40e646185166",
   "metadata": {},
   "source": [
    "# Import libraries numpy, panda, matplotlib, seaborn"
   ]
  },
  {
   "cell_type": "code",
   "execution_count": 7,
   "id": "ab273f26-ccfd-4be9-894c-2bede003c9fa",
   "metadata": {},
   "outputs": [],
   "source": [
    "import numpy as np\n",
    "import pandas as pd\n",
    "import matplotlib.pyplot as plt\n",
    "import seaborn as sns\n"
   ]
  },
  {
   "cell_type": "code",
   "execution_count": 9,
   "id": "0d0849ed-cea4-4f1f-96d1-4816e8f77fc3",
   "metadata": {
    "scrolled": true
   },
   "outputs": [],
   "source": [
    "df=pd.read_csv(\"C:/Users/user/Downloads/Spotify_data.csv\")"
   ]
  },
  {
   "cell_type": "markdown",
   "id": "2412fd1e-51f0-4888-8810-ab70971da9bd",
   "metadata": {},
   "source": [
    "## View the first few rows"
   ]
  },
  {
   "cell_type": "code",
   "execution_count": 10,
   "id": "a3943ef0-8105-4005-8a25-fe9fa404ed74",
   "metadata": {},
   "outputs": [
    {
     "data": {
      "text/html": [
       "<div>\n",
       "<style scoped>\n",
       "    .dataframe tbody tr th:only-of-type {\n",
       "        vertical-align: middle;\n",
       "    }\n",
       "\n",
       "    .dataframe tbody tr th {\n",
       "        vertical-align: top;\n",
       "    }\n",
       "\n",
       "    .dataframe thead th {\n",
       "        text-align: right;\n",
       "    }\n",
       "</style>\n",
       "<table border=\"1\" class=\"dataframe\">\n",
       "  <thead>\n",
       "    <tr style=\"text-align: right;\">\n",
       "      <th></th>\n",
       "      <th>title</th>\n",
       "      <th>artist</th>\n",
       "      <th>top genre</th>\n",
       "      <th>year released</th>\n",
       "      <th>added</th>\n",
       "      <th>bpm</th>\n",
       "      <th>nrgy</th>\n",
       "      <th>dnce</th>\n",
       "      <th>dB</th>\n",
       "      <th>live</th>\n",
       "      <th>val</th>\n",
       "      <th>dur</th>\n",
       "      <th>acous</th>\n",
       "      <th>spch</th>\n",
       "      <th>pop</th>\n",
       "      <th>top year</th>\n",
       "      <th>artist type</th>\n",
       "    </tr>\n",
       "  </thead>\n",
       "  <tbody>\n",
       "    <tr>\n",
       "      <th>0</th>\n",
       "      <td>STARSTRUKK (feat. Katy Perry)</td>\n",
       "      <td>3OH!3</td>\n",
       "      <td>dance pop</td>\n",
       "      <td>2009</td>\n",
       "      <td>2022/02/17</td>\n",
       "      <td>140</td>\n",
       "      <td>81</td>\n",
       "      <td>61</td>\n",
       "      <td>-6</td>\n",
       "      <td>23</td>\n",
       "      <td>23</td>\n",
       "      <td>203</td>\n",
       "      <td>0</td>\n",
       "      <td>6</td>\n",
       "      <td>70</td>\n",
       "      <td>2010</td>\n",
       "      <td>Duo</td>\n",
       "    </tr>\n",
       "    <tr>\n",
       "      <th>1</th>\n",
       "      <td>My First Kiss (feat. Ke$ha)</td>\n",
       "      <td>3OH!3</td>\n",
       "      <td>dance pop</td>\n",
       "      <td>2010</td>\n",
       "      <td>2022/02/17</td>\n",
       "      <td>138</td>\n",
       "      <td>89</td>\n",
       "      <td>68</td>\n",
       "      <td>-4</td>\n",
       "      <td>36</td>\n",
       "      <td>83</td>\n",
       "      <td>192</td>\n",
       "      <td>1</td>\n",
       "      <td>8</td>\n",
       "      <td>68</td>\n",
       "      <td>2010</td>\n",
       "      <td>Duo</td>\n",
       "    </tr>\n",
       "    <tr>\n",
       "      <th>2</th>\n",
       "      <td>I Need A Dollar</td>\n",
       "      <td>Aloe Blacc</td>\n",
       "      <td>pop soul</td>\n",
       "      <td>2010</td>\n",
       "      <td>2022/02/17</td>\n",
       "      <td>95</td>\n",
       "      <td>48</td>\n",
       "      <td>84</td>\n",
       "      <td>-7</td>\n",
       "      <td>9</td>\n",
       "      <td>96</td>\n",
       "      <td>243</td>\n",
       "      <td>20</td>\n",
       "      <td>3</td>\n",
       "      <td>72</td>\n",
       "      <td>2010</td>\n",
       "      <td>Solo</td>\n",
       "    </tr>\n",
       "    <tr>\n",
       "      <th>3</th>\n",
       "      <td>Airplanes (feat. Hayley Williams of Paramore)</td>\n",
       "      <td>B.o.B</td>\n",
       "      <td>atl hip hop</td>\n",
       "      <td>2010</td>\n",
       "      <td>2022/02/17</td>\n",
       "      <td>93</td>\n",
       "      <td>87</td>\n",
       "      <td>66</td>\n",
       "      <td>-4</td>\n",
       "      <td>4</td>\n",
       "      <td>38</td>\n",
       "      <td>180</td>\n",
       "      <td>11</td>\n",
       "      <td>12</td>\n",
       "      <td>80</td>\n",
       "      <td>2010</td>\n",
       "      <td>Solo</td>\n",
       "    </tr>\n",
       "    <tr>\n",
       "      <th>4</th>\n",
       "      <td>Nothin' on You (feat. Bruno Mars)</td>\n",
       "      <td>B.o.B</td>\n",
       "      <td>atl hip hop</td>\n",
       "      <td>2010</td>\n",
       "      <td>2022/02/17</td>\n",
       "      <td>104</td>\n",
       "      <td>85</td>\n",
       "      <td>69</td>\n",
       "      <td>-6</td>\n",
       "      <td>9</td>\n",
       "      <td>74</td>\n",
       "      <td>268</td>\n",
       "      <td>39</td>\n",
       "      <td>5</td>\n",
       "      <td>79</td>\n",
       "      <td>2010</td>\n",
       "      <td>Solo</td>\n",
       "    </tr>\n",
       "  </tbody>\n",
       "</table>\n",
       "</div>"
      ],
      "text/plain": [
       "                                           title      artist    top genre  \\\n",
       "0                  STARSTRUKK (feat. Katy Perry)       3OH!3    dance pop   \n",
       "1                    My First Kiss (feat. Ke$ha)       3OH!3    dance pop   \n",
       "2                                I Need A Dollar  Aloe Blacc     pop soul   \n",
       "3  Airplanes (feat. Hayley Williams of Paramore)       B.o.B  atl hip hop   \n",
       "4              Nothin' on You (feat. Bruno Mars)       B.o.B  atl hip hop   \n",
       "\n",
       "   year released       added  bpm  nrgy  dnce  dB  live  val  dur  acous  \\\n",
       "0           2009  2022/02/17  140    81    61  -6    23   23  203      0   \n",
       "1           2010  2022/02/17  138    89    68  -4    36   83  192      1   \n",
       "2           2010  2022/02/17   95    48    84  -7     9   96  243     20   \n",
       "3           2010  2022/02/17   93    87    66  -4     4   38  180     11   \n",
       "4           2010  2022/02/17  104    85    69  -6     9   74  268     39   \n",
       "\n",
       "   spch  pop  top year artist type  \n",
       "0     6   70      2010         Duo  \n",
       "1     8   68      2010         Duo  \n",
       "2     3   72      2010        Solo  \n",
       "3    12   80      2010        Solo  \n",
       "4     5   79      2010        Solo  "
      ]
     },
     "execution_count": 10,
     "metadata": {},
     "output_type": "execute_result"
    }
   ],
   "source": [
    "df.head()"
   ]
  },
  {
   "cell_type": "markdown",
   "id": "a1ca10ec-e3cd-4fc3-9c4b-1c28ea087e9d",
   "metadata": {},
   "source": [
    "# 1. Number of files submitted for the month of March"
   ]
  },
  {
   "cell_type": "markdown",
   "id": "c34b3c01-eed5-4f5c-af13-4d505161696e",
   "metadata": {},
   "source": [
    "### Change the date format first"
   ]
  },
  {
   "cell_type": "code",
   "execution_count": 11,
   "id": "14c9d752-f37e-4450-94b0-e6045c9bec3d",
   "metadata": {},
   "outputs": [],
   "source": [
    "df['added'] = pd.to_datetime(df['added'])"
   ]
  },
  {
   "cell_type": "markdown",
   "id": "5702acfd-961f-4a88-bfa4-c2633884e45b",
   "metadata": {},
   "source": [
    "### View few cells to confirm date format change"
   ]
  },
  {
   "cell_type": "code",
   "execution_count": 12,
   "id": "33641f19-a90c-4ff2-ae1c-66624096a447",
   "metadata": {},
   "outputs": [
    {
     "data": {
      "text/html": [
       "<div>\n",
       "<style scoped>\n",
       "    .dataframe tbody tr th:only-of-type {\n",
       "        vertical-align: middle;\n",
       "    }\n",
       "\n",
       "    .dataframe tbody tr th {\n",
       "        vertical-align: top;\n",
       "    }\n",
       "\n",
       "    .dataframe thead th {\n",
       "        text-align: right;\n",
       "    }\n",
       "</style>\n",
       "<table border=\"1\" class=\"dataframe\">\n",
       "  <thead>\n",
       "    <tr style=\"text-align: right;\">\n",
       "      <th></th>\n",
       "      <th>title</th>\n",
       "      <th>artist</th>\n",
       "      <th>top genre</th>\n",
       "      <th>year released</th>\n",
       "      <th>added</th>\n",
       "      <th>bpm</th>\n",
       "      <th>nrgy</th>\n",
       "      <th>dnce</th>\n",
       "      <th>dB</th>\n",
       "      <th>live</th>\n",
       "      <th>val</th>\n",
       "      <th>dur</th>\n",
       "      <th>acous</th>\n",
       "      <th>spch</th>\n",
       "      <th>pop</th>\n",
       "      <th>top year</th>\n",
       "      <th>artist type</th>\n",
       "    </tr>\n",
       "  </thead>\n",
       "  <tbody>\n",
       "    <tr>\n",
       "      <th>0</th>\n",
       "      <td>STARSTRUKK (feat. Katy Perry)</td>\n",
       "      <td>3OH!3</td>\n",
       "      <td>dance pop</td>\n",
       "      <td>2009</td>\n",
       "      <td>2022-02-17</td>\n",
       "      <td>140</td>\n",
       "      <td>81</td>\n",
       "      <td>61</td>\n",
       "      <td>-6</td>\n",
       "      <td>23</td>\n",
       "      <td>23</td>\n",
       "      <td>203</td>\n",
       "      <td>0</td>\n",
       "      <td>6</td>\n",
       "      <td>70</td>\n",
       "      <td>2010</td>\n",
       "      <td>Duo</td>\n",
       "    </tr>\n",
       "    <tr>\n",
       "      <th>1</th>\n",
       "      <td>My First Kiss (feat. Ke$ha)</td>\n",
       "      <td>3OH!3</td>\n",
       "      <td>dance pop</td>\n",
       "      <td>2010</td>\n",
       "      <td>2022-02-17</td>\n",
       "      <td>138</td>\n",
       "      <td>89</td>\n",
       "      <td>68</td>\n",
       "      <td>-4</td>\n",
       "      <td>36</td>\n",
       "      <td>83</td>\n",
       "      <td>192</td>\n",
       "      <td>1</td>\n",
       "      <td>8</td>\n",
       "      <td>68</td>\n",
       "      <td>2010</td>\n",
       "      <td>Duo</td>\n",
       "    </tr>\n",
       "    <tr>\n",
       "      <th>2</th>\n",
       "      <td>I Need A Dollar</td>\n",
       "      <td>Aloe Blacc</td>\n",
       "      <td>pop soul</td>\n",
       "      <td>2010</td>\n",
       "      <td>2022-02-17</td>\n",
       "      <td>95</td>\n",
       "      <td>48</td>\n",
       "      <td>84</td>\n",
       "      <td>-7</td>\n",
       "      <td>9</td>\n",
       "      <td>96</td>\n",
       "      <td>243</td>\n",
       "      <td>20</td>\n",
       "      <td>3</td>\n",
       "      <td>72</td>\n",
       "      <td>2010</td>\n",
       "      <td>Solo</td>\n",
       "    </tr>\n",
       "    <tr>\n",
       "      <th>3</th>\n",
       "      <td>Airplanes (feat. Hayley Williams of Paramore)</td>\n",
       "      <td>B.o.B</td>\n",
       "      <td>atl hip hop</td>\n",
       "      <td>2010</td>\n",
       "      <td>2022-02-17</td>\n",
       "      <td>93</td>\n",
       "      <td>87</td>\n",
       "      <td>66</td>\n",
       "      <td>-4</td>\n",
       "      <td>4</td>\n",
       "      <td>38</td>\n",
       "      <td>180</td>\n",
       "      <td>11</td>\n",
       "      <td>12</td>\n",
       "      <td>80</td>\n",
       "      <td>2010</td>\n",
       "      <td>Solo</td>\n",
       "    </tr>\n",
       "    <tr>\n",
       "      <th>4</th>\n",
       "      <td>Nothin' on You (feat. Bruno Mars)</td>\n",
       "      <td>B.o.B</td>\n",
       "      <td>atl hip hop</td>\n",
       "      <td>2010</td>\n",
       "      <td>2022-02-17</td>\n",
       "      <td>104</td>\n",
       "      <td>85</td>\n",
       "      <td>69</td>\n",
       "      <td>-6</td>\n",
       "      <td>9</td>\n",
       "      <td>74</td>\n",
       "      <td>268</td>\n",
       "      <td>39</td>\n",
       "      <td>5</td>\n",
       "      <td>79</td>\n",
       "      <td>2010</td>\n",
       "      <td>Solo</td>\n",
       "    </tr>\n",
       "  </tbody>\n",
       "</table>\n",
       "</div>"
      ],
      "text/plain": [
       "                                           title      artist    top genre  \\\n",
       "0                  STARSTRUKK (feat. Katy Perry)       3OH!3    dance pop   \n",
       "1                    My First Kiss (feat. Ke$ha)       3OH!3    dance pop   \n",
       "2                                I Need A Dollar  Aloe Blacc     pop soul   \n",
       "3  Airplanes (feat. Hayley Williams of Paramore)       B.o.B  atl hip hop   \n",
       "4              Nothin' on You (feat. Bruno Mars)       B.o.B  atl hip hop   \n",
       "\n",
       "   year released      added  bpm  nrgy  dnce  dB  live  val  dur  acous  spch  \\\n",
       "0           2009 2022-02-17  140    81    61  -6    23   23  203      0     6   \n",
       "1           2010 2022-02-17  138    89    68  -4    36   83  192      1     8   \n",
       "2           2010 2022-02-17   95    48    84  -7     9   96  243     20     3   \n",
       "3           2010 2022-02-17   93    87    66  -4     4   38  180     11    12   \n",
       "4           2010 2022-02-17  104    85    69  -6     9   74  268     39     5   \n",
       "\n",
       "   pop  top year artist type  \n",
       "0   70      2010         Duo  \n",
       "1   68      2010         Duo  \n",
       "2   72      2010        Solo  \n",
       "3   80      2010        Solo  \n",
       "4   79      2010        Solo  "
      ]
     },
     "execution_count": 12,
     "metadata": {},
     "output_type": "execute_result"
    }
   ],
   "source": [
    "df.head()"
   ]
  },
  {
   "cell_type": "code",
   "execution_count": 15,
   "id": "05c8f3cf-6b8a-4c75-a141-64451b8bab23",
   "metadata": {},
   "outputs": [
    {
     "name": "stdout",
     "output_type": "stream",
     "text": [
      "Number of files submitted in March: 3\n"
     ]
    }
   ],
   "source": [
    "march_submissions = df[df['added'].dt.month == 3].shape[0]\n",
    "print(f\"Number of files submitted in March: {march_submissions}\")"
   ]
  },
  {
   "cell_type": "markdown",
   "id": "962b86d1-4443-46ec-ace8-caa29bc94163",
   "metadata": {},
   "source": [
    "# 2. Maximum Duration for Each Year\n"
   ]
  },
  {
   "cell_type": "markdown",
   "id": "cbd7a0fa-9df0-4932-97ce-705aeea99ab5",
   "metadata": {},
   "source": [
    "### Group by column year released then find the maximum duratrion"
   ]
  },
  {
   "cell_type": "code",
   "execution_count": 21,
   "id": "a6fe2d8f-6a1d-41f8-b07b-545cd61ac036",
   "metadata": {},
   "outputs": [
    {
     "name": "stdout",
     "output_type": "stream",
     "text": [
      "year released\n",
      "1975    354\n",
      "2009    321\n",
      "2010    308\n",
      "2011    337\n",
      "2012    350\n",
      "2013    688\n",
      "2014    323\n",
      "2015    296\n",
      "2016    348\n",
      "2017    343\n",
      "2018    418\n",
      "2019    302\n",
      "2020    240\n",
      "2021    280\n",
      "Name: dur, dtype: int64\n"
     ]
    }
   ],
   "source": [
    "max_duration_per_year = df.groupby('year released')['dur'].max()\n",
    "print (max_duration_per_year)"
   ]
  },
  {
   "cell_type": "markdown",
   "id": "5662c480-de2c-40cc-be90-e31fafde90d5",
   "metadata": {},
   "source": [
    "# 3. Number of Songs Released Per Artist for All Years\n",
    "### Group by artists & count the songs"
   ]
  },
  {
   "cell_type": "code",
   "execution_count": 23,
   "id": "95f001dc-738c-4840-99b2-d45da2780b62",
   "metadata": {},
   "outputs": [
    {
     "name": "stdout",
     "output_type": "stream",
     "text": [
      "artist\n",
      "Taylor Swift          21\n",
      "Drake                 18\n",
      "Calvin Harris         18\n",
      "Rihanna               14\n",
      "Ariana Grande         14\n",
      "                      ..\n",
      "Stormzy                1\n",
      "Tyler, The Creator     1\n",
      "Wiley                  1\n",
      "Young T & Bugsey       1\n",
      "Young Thug             1\n",
      "Name: count, Length: 444, dtype: int64\n"
     ]
    }
   ],
   "source": [
    "songs_per_artist = df['artist'].value_counts()\n",
    "print(songs_per_artist)"
   ]
  },
  {
   "cell_type": "markdown",
   "id": "43aed56c-9f40-4665-b620-8f43e2748157",
   "metadata": {},
   "source": [
    "# 4. Number of Songs Released Per Artist in 2010\n",
    "### Filter by 2010 & count the songs per artist"
   ]
  },
  {
   "cell_type": "code",
   "execution_count": 25,
   "id": "7df5c58b-732b-4610-81d8-09908f39a6ce",
   "metadata": {},
   "outputs": [
    {
     "name": "stdout",
     "output_type": "stream",
     "text": [
      "artist\n",
      "Kesha                   6\n",
      "Bruno Mars              5\n",
      "Rihanna                 5\n",
      "Usher                   4\n",
      "Jason Derulo            3\n",
      "B.o.B                   3\n",
      "Eminem                  2\n",
      "Ellie Goulding          2\n",
      "Edward Maya             2\n",
      "Drake                   2\n",
      "Maroon 5                2\n",
      "Katy Perry              2\n",
      "Enrique Iglesias        2\n",
      "Far East Movement       2\n",
      "Taylor Swift            2\n",
      "Taio Cruz               2\n",
      "Black Eyed Peas         2\n",
      "Ludacris                2\n",
      "Tinie Tempah            2\n",
      "Waka Flocka Flame       2\n",
      "Swedish House Mafia     2\n",
      "The Band Perry          2\n",
      "3OH!3                   1\n",
      "DJ Khaled               1\n",
      "CeeLo Green             1\n",
      "Aloe Blacc              1\n",
      "Mike Posner             1\n",
      "Lil Wayne               1\n",
      "Justin Bieber           1\n",
      "INNA                    1\n",
      "Eliza Doolittle         1\n",
      "Example                 1\n",
      "Flo Rida                1\n",
      "Duck Sauce              1\n",
      "Sugarland               1\n",
      "Stromae                 1\n",
      "Sara Bareilles          1\n",
      "Robyn                   1\n",
      "Plan B                  1\n",
      "Take That               1\n",
      "Neon Trees              1\n",
      "Miley Cyrus             1\n",
      "Tim Berg                1\n",
      "The Wanted              1\n",
      "Train                   1\n",
      "Travie McCoy            1\n",
      "Two Door Cinema Club    1\n",
      "Trey Songz              1\n",
      "David Guetta            1\n",
      "Diddy - Dirty Money     1\n",
      "Jason Aldean            1\n",
      "Jeremih                 1\n",
      "Kanye West              1\n",
      "Keri Hilson             1\n",
      "Miguel                  1\n",
      "Nicki Minaj             1\n",
      "P!nk                    1\n",
      "DJ Fresh                1\n",
      "Name: count, dtype: int64\n"
     ]
    }
   ],
   "source": [
    "songs_per_artist_2010 = df[df['year released'] == 2010]['artist'].value_counts()\n",
    "print(songs_per_artist_2010)"
   ]
  },
  {
   "cell_type": "markdown",
   "id": "ac4310ab-8982-494b-b56d-09456dc09ae1",
   "metadata": {},
   "source": [
    "# 5. Number of Songs Released Per Top Genre in Each Year\n",
    "### Group by genre and year, then count songs\n"
   ]
  },
  {
   "cell_type": "code",
   "execution_count": 28,
   "id": "03320bce-75db-414a-b5a3-89dabc1d5b1b",
   "metadata": {},
   "outputs": [
    {
     "name": "stdout",
     "output_type": "stream",
     "text": [
      "top genre      acoustic pop  adult standards  afro dancehall  afrofuturism  \\\n",
      "year released                                                                \n",
      "1975                      0                0               0             0   \n",
      "2009                      0                0               0             0   \n",
      "2010                      1                0               0             0   \n",
      "2011                      0                0               0             0   \n",
      "2012                      0                0               0             0   \n",
      "2013                      0                1               0             0   \n",
      "2014                      0                0               0             0   \n",
      "2015                      0                0               0             0   \n",
      "2016                      0                0               0             0   \n",
      "2017                      0                0               0             0   \n",
      "2018                      0                0               0             1   \n",
      "2019                      0                0               0             0   \n",
      "2020                      0                0               1             0   \n",
      "2021                      0                0               0             0   \n",
      "\n",
      "top genre      afroswing  alt z  alternative dance  alternative metal  \\\n",
      "year released                                                           \n",
      "1975                   0      0                  0                  0   \n",
      "2009                   0      0                  0                  0   \n",
      "2010                   0      0                  0                  0   \n",
      "2011                   0      0                  0                  1   \n",
      "2012                   0      0                  1                  1   \n",
      "2013                   0      0                  0                  0   \n",
      "2014                   0      0                  0                  0   \n",
      "2015                   0      1                  0                  0   \n",
      "2016                   0      3                  0                  0   \n",
      "2017                   0      0                  2                  0   \n",
      "2018                   3      2                  1                  0   \n",
      "2019                   1      0                  0                  0   \n",
      "2020                   0      1                  0                  0   \n",
      "2021                   0      1                  0                  0   \n",
      "\n",
      "top genre      alternative pop rock  alternative r&b  ...  pop soul  rap  \\\n",
      "year released                                         ...                  \n",
      "1975                              0                0  ...         0    0   \n",
      "2009                              0                0  ...         0    0   \n",
      "2010                              0                0  ...         1    0   \n",
      "2011                              0                0  ...         0    0   \n",
      "2012                              0                2  ...         0    0   \n",
      "2013                              0                0  ...         0    0   \n",
      "2014                              0                1  ...         1    0   \n",
      "2015                              0                0  ...         0    0   \n",
      "2016                              0                2  ...         0    0   \n",
      "2017                              0                0  ...         0    0   \n",
      "2018                              1                0  ...         0    1   \n",
      "2019                              0                0  ...         0    0   \n",
      "2020                              0                0  ...         0    0   \n",
      "2021                              0                0  ...         0    0   \n",
      "\n",
      "top genre      reggae fusion  romanian house  san diego rap  social media pop  \\\n",
      "year released                                                                   \n",
      "1975                       0               0              0                 0   \n",
      "2009                       1               0              0                 0   \n",
      "2010                       0               2              0                 0   \n",
      "2011                       0               0              0                 0   \n",
      "2012                       0               0              0                 0   \n",
      "2013                       0               0              0                 0   \n",
      "2014                       1               0              0                 0   \n",
      "2015                       0               0              0                 0   \n",
      "2016                       0               0              2                 0   \n",
      "2017                       0               0              0                 1   \n",
      "2018                       0               0              0                 0   \n",
      "2019                       0               0              0                 0   \n",
      "2020                       0               0              0                 0   \n",
      "2021                       0               0              0                 0   \n",
      "\n",
      "top genre      talent show  tropical house  uk drill  uk hip hop  \n",
      "year released                                                     \n",
      "1975                     0               0         0           0  \n",
      "2009                     0               0         0           0  \n",
      "2010                     0               0         0           0  \n",
      "2011                     1               0         0           2  \n",
      "2012                     0               0         0           0  \n",
      "2013                     0               1         0           0  \n",
      "2014                     0               0         0           0  \n",
      "2015                     0               0         0           0  \n",
      "2016                     0               0         0           0  \n",
      "2017                     0               0         0           0  \n",
      "2018                     0               0         0           0  \n",
      "2019                     0               0         1           1  \n",
      "2020                     0               0         0           0  \n",
      "2021                     0               0         0           0  \n",
      "\n",
      "[14 rows x 132 columns]\n"
     ]
    }
   ],
   "source": [
    "songs_per_genre_year = df.groupby(['year released','top genre']).size().unstack(fill_value=0)\n",
    "print(songs_per_genre_year)"
   ]
  },
  {
   "cell_type": "markdown",
   "id": "7003a5de-1fa4-4a82-a26f-dfaecb5c0a4f",
   "metadata": {},
   "source": [
    "# Plot diagram showing the number of songs added by month & year\n",
    "### Extract year & month"
   ]
  },
  {
   "cell_type": "code",
   "execution_count": 29,
   "id": "af117a2b-7661-49be-84e0-e2da8a0e1a65",
   "metadata": {},
   "outputs": [],
   "source": [
    "df['year_month'] = df['added'].dt.to_period('M')"
   ]
  },
  {
   "cell_type": "markdown",
   "id": "74cb92f7-4764-4fe2-b753-10f66e080e82",
   "metadata": {},
   "source": [
    "### Count songs per month-year\n"
   ]
  },
  {
   "cell_type": "code",
   "execution_count": 30,
   "id": "ac2c759e-b97c-446c-b437-10b64c1566db",
   "metadata": {},
   "outputs": [],
   "source": [
    "monthly_song_counts = df['year_month'].value_counts().sort_index()"
   ]
  },
  {
   "cell_type": "markdown",
   "id": "748a0b39-1d98-4f45-92b9-2e27db0d7d25",
   "metadata": {},
   "source": [
    "### Plot the data"
   ]
  },
  {
   "cell_type": "code",
   "execution_count": 31,
   "id": "68bb054b-ed45-40d7-bb74-b84f9d21a319",
   "metadata": {},
   "outputs": [
    {
     "data": {
      "image/png": "[encoded data removed]",
      "text/plain": [
       "<Figure size 1200x600 with 1 Axes>"
      ]
     },
     "metadata": {},
     "output_type": "display_data"
    }
   ],
   "source": [
    "plt.figure(figsize=(12, 6))\n",
    "monthly_song_counts.plot(kind='bar', color='skyblue')\n",
    "plt.title(\"Number of Songs Added by Month & Year\")\n",
    "plt.xlabel(\"Month-Year\")\n",
    "plt.ylabel(\"Number of Songs\")\n",
    "plt.xticks(rotation=90)\n",
    "plt.show()"
   ]
  },
  {
   "cell_type": "markdown",
   "id": "2103da2a-981b-43b4-b464-fb71337e9ec8",
   "metadata": {},
   "source": [
    "# Line graph diagram showing the number of songs added by top genre for all years"
   ]
  },
  {
   "cell_type": "code",
   "execution_count": 35,
   "id": "61065c6c-0c37-453b-8944-0d2548fc9e9c",
   "metadata": {},
   "outputs": [],
   "source": [
    "genre_trends = df.groupby(['year released','top genre']).size().unstack(fill_value=0)\n"
   ]
  },
  {
   "cell_type": "code",
   "execution_count": null,
   "id": "ae33f777-d4aa-4743-ab24-aa484b6aae24",
   "metadata": {},
   "outputs": [],
   "source": []
  }
 ],
 "metadata": {
  "kernelspec": {
   "display_name": "Python 3 (ipykernel)",
   "language": "python",
   "name": "python3"
  },
  "language_info": {
   "codemirror_mode": {
    "name": "ipython",
    "version": 3
   },
   "file_extension": ".py",
   "mimetype": "text/x-python",
   "name": "python",
   "nbconvert_exporter": "python",
   "pygments_lexer": "ipython3",
   "version": "3.13.2"
  }
 },
 "nbformat": 4,
 "nbformat_minor": 5
}
